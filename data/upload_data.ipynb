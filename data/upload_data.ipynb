{
 "cells": [
  {
   "cell_type": "markdown",
   "id": "deafa372-1894-496b-a895-fa3ac7cb53c1",
   "metadata": {},
   "source": [
    "### Goals\n",
    "The goal of this notebook is to upload data to our data bucket."
   ]
  },
  {
   "cell_type": "code",
   "execution_count": 6,
   "id": "a47aedd7-89c8-46f0-9dc1-dfed4b7cd9b0",
   "metadata": {
    "tags": []
   },
   "outputs": [
    {
     "name": "stdout",
     "output_type": "stream",
     "text": [
      "Requirement already satisfied: google-cloud-storage in /opt/conda/lib/python3.10/site-packages (2.19.0)\n",
      "Requirement already satisfied: google-auth<3.0dev,>=2.26.1 in /opt/conda/lib/python3.10/site-packages (from google-cloud-storage) (2.41.1)\n",
      "Requirement already satisfied: google-api-core<3.0.0dev,>=2.15.0 in /opt/conda/lib/python3.10/site-packages (from google-cloud-storage) (2.26.0)\n",
      "Requirement already satisfied: google-cloud-core<3.0dev,>=2.3.0 in /opt/conda/lib/python3.10/site-packages (from google-cloud-storage) (2.4.3)\n",
      "Requirement already satisfied: google-resumable-media>=2.7.2 in /opt/conda/lib/python3.10/site-packages (from google-cloud-storage) (2.7.2)\n",
      "Requirement already satisfied: requests<3.0.0dev,>=2.18.0 in /opt/conda/lib/python3.10/site-packages (from google-cloud-storage) (2.32.5)\n",
      "Requirement already satisfied: google-crc32c<2.0dev,>=1.0 in /opt/conda/lib/python3.10/site-packages (from google-cloud-storage) (1.7.1)\n",
      "Requirement already satisfied: googleapis-common-protos<2.0.0,>=1.56.2 in /opt/conda/lib/python3.10/site-packages (from google-api-core<3.0.0dev,>=2.15.0->google-cloud-storage) (1.70.0)\n",
      "Requirement already satisfied: protobuf!=3.20.0,!=3.20.1,!=4.21.0,!=4.21.1,!=4.21.2,!=4.21.3,!=4.21.4,!=4.21.5,<7.0.0,>=3.19.5 in /opt/conda/lib/python3.10/site-packages (from google-api-core<3.0.0dev,>=2.15.0->google-cloud-storage) (6.31.1)\n",
      "Requirement already satisfied: proto-plus<2.0.0,>=1.22.3 in /opt/conda/lib/python3.10/site-packages (from google-api-core<3.0.0dev,>=2.15.0->google-cloud-storage) (1.26.1)\n",
      "Requirement already satisfied: cachetools<7.0,>=2.0.0 in /opt/conda/lib/python3.10/site-packages (from google-auth<3.0dev,>=2.26.1->google-cloud-storage) (6.2.0)\n",
      "Requirement already satisfied: pyasn1-modules>=0.2.1 in /opt/conda/lib/python3.10/site-packages (from google-auth<3.0dev,>=2.26.1->google-cloud-storage) (0.4.2)\n",
      "Requirement already satisfied: rsa<5,>=3.1.4 in /opt/conda/lib/python3.10/site-packages (from google-auth<3.0dev,>=2.26.1->google-cloud-storage) (4.9.1)\n",
      "Requirement already satisfied: charset_normalizer<4,>=2 in /opt/conda/lib/python3.10/site-packages (from requests<3.0.0dev,>=2.18.0->google-cloud-storage) (3.4.2)\n",
      "Requirement already satisfied: idna<4,>=2.5 in /opt/conda/lib/python3.10/site-packages (from requests<3.0.0dev,>=2.18.0->google-cloud-storage) (3.10)\n",
      "Requirement already satisfied: urllib3<3,>=1.21.1 in /opt/conda/lib/python3.10/site-packages (from requests<3.0.0dev,>=2.18.0->google-cloud-storage) (2.5.0)\n",
      "Requirement already satisfied: certifi>=2017.4.17 in /opt/conda/lib/python3.10/site-packages (from requests<3.0.0dev,>=2.18.0->google-cloud-storage) (2025.10.5)\n",
      "Requirement already satisfied: pyasn1>=0.1.3 in /opt/conda/lib/python3.10/site-packages (from rsa<5,>=3.1.4->google-auth<3.0dev,>=2.26.1->google-cloud-storage) (0.6.1)\n",
      "Note: you may need to restart the kernel to use updated packages.\n"
     ]
    }
   ],
   "source": [
    "pip install google-cloud-storage"
   ]
  },
  {
   "cell_type": "code",
   "execution_count": 7,
   "id": "0008929a-5a4d-4be2-9731-a2d8cfff08cd",
   "metadata": {
    "tags": []
   },
   "outputs": [],
   "source": [
    "from google.cloud import storage\n",
    "\n",
    "def upload_data(*,\n",
    "    bucket : str,\n",
    "    filepath_in_bucket : str,\n",
    "    local_filepath : str\n",
    "):\n",
    "    storage_client = storage.Client()\n",
    "    bucket = storage_client.bucket(bucket)\n",
    "    blob = bucket.blob(filepath_in_bucket)\n",
    "    blob.upload_from_filename(local_filepath)\n",
    "    print(f\"{local_filepath} uploaded succesfully.\")"
   ]
  },
  {
   "cell_type": "code",
   "execution_count": 11,
   "id": "e9c7e218-827b-4964-87da-457bc4581fda",
   "metadata": {
    "tags": []
   },
   "outputs": [],
   "source": [
    "import pandas as pd\n",
    "import numpy as np\n",
    "\n",
    "def preprocess_data(df):\n",
    "    df = df[[\"Pclass\", \"Sex\", \"Age\", \"SibSp\", \"Parch\", \"Survived\"]]\n",
    "    df = df.dropna()\n",
    "    df[\"Sex\"] = df[\"Sex\"].map({\"male\": 0, \"female\": 1})\n",
    "    #SibSP is the no of siblings or partners onboard\n",
    "    #Parch is the number of parents or children onboard\n",
    "    df = df.rename(columns={\"SibSp\": \"no_of_siblings_or_partners_onboard\", \"Parch\": \"no_of_parents_or_children_onboard\"})\n",
    "    return df"
   ]
  },
  {
   "cell_type": "code",
   "execution_count": 12,
   "id": "bc3188bc-06fa-4390-9f3f-f04cb9eae989",
   "metadata": {
    "tags": []
   },
   "outputs": [],
   "source": [
    "from sklearn.model_selection import train_test_split\n",
    "\n",
    "whole_dataset = preprocess_data(pd.read_csv(\"titanic.csv\"))\n",
    "train, test = train_test_split(whole_dataset, test_size = 0.2, random_state = 42, stratify = whole_dataset[\"Survived\"])"
   ]
  },
  {
   "cell_type": "code",
   "execution_count": 13,
   "id": "3b53bcf4-8c6a-4649-a299-65572dc9e7bd",
   "metadata": {
    "tags": []
   },
   "outputs": [],
   "source": [
    "train.to_csv(\"train.csv\")\n",
    "test.to_csv(\"test.csv\")"
   ]
  },
  {
   "cell_type": "code",
   "execution_count": 14,
   "id": "719e934d-341a-418b-a707-361826fd5f08",
   "metadata": {
    "tags": []
   },
   "outputs": [
    {
     "name": "stdout",
     "output_type": "stream",
     "text": [
      "titanic.csv uploaded succesfully.\n",
      "train.csv uploaded succesfully.\n",
      "test.csv uploaded succesfully.\n"
     ]
    }
   ],
   "source": [
    "BUCKET = \"de2025-group10-a1-data\"\n",
    "\n",
    "upload_data(\n",
    "    bucket = BUCKET,\n",
    "    filepath_in_bucket = \"titanic/data.csv\",\n",
    "    local_filepath = \"titanic.csv\"\n",
    ")\n",
    "\n",
    "upload_data(\n",
    "    bucket = BUCKET,\n",
    "    filepath_in_bucket = \"titanic/train.csv\",\n",
    "    local_filepath = \"train.csv\"\n",
    ")\n",
    "\n",
    "upload_data(\n",
    "    bucket = BUCKET,\n",
    "    filepath_in_bucket = \"titanic/test.csv\",\n",
    "    local_filepath = \"test.csv\"\n",
    ")"
   ]
  }
 ],
 "metadata": {
  "environment": {
   "kernel": "conda-base-py",
   "name": "workbench-notebooks.m134",
   "type": "gcloud",
   "uri": "us-docker.pkg.dev/deeplearning-platform-release/gcr.io/workbench-notebooks:m134"
  },
  "kernelspec": {
   "display_name": "Python 3 (ipykernel) (Local)",
   "language": "python",
   "name": "conda-base-py"
  },
  "language_info": {
   "codemirror_mode": {
    "name": "ipython",
    "version": 3
   },
   "file_extension": ".py",
   "mimetype": "text/x-python",
   "name": "python",
   "nbconvert_exporter": "python",
   "pygments_lexer": "ipython3",
   "version": "3.10.18"
  }
 },
 "nbformat": 4,
 "nbformat_minor": 5
}
