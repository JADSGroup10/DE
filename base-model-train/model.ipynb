{
 "cells": [
  {
   "cell_type": "code",
   "id": "initial_id",
   "metadata": {
    "collapsed": true,
    "ExecuteTime": {
     "end_time": "2025-10-13T12:03:24.264964Z",
     "start_time": "2025-10-13T12:03:24.249506Z"
    }
   },
   "source": [
    "import pandas as pd\n",
    "import numpy as np\n",
    "\n",
    "df = pd.read_csv(\"../data/titanic.csv\")\n",
    "df = df[[\"Pclass\", \"Sex\", \"Age\", \"SibSp\", \"Parch\", \"Survived\"]]\n",
    "df = df.dropna()\n",
    "df[\"Sex\"] = df[\"Sex\"].map({\"male\": 0, \"female\": 1})\n",
    "#SibSP is the no of siblings or partners onboard\n",
    "#Parch is the number of parents or children onboard\n",
    "df = df.rename(columns={\"SibSp\": \"no_of_siblings_or_partners_onboard\", \"Parch\": \"no_of_parents_or_children_onboard\"})\n",
    "\n",
    "df.head()\n"
   ],
   "outputs": [
    {
     "data": {
      "text/plain": [
       "   Pclass  Sex   Age  no_of_siblings_or_partners_onboard  \\\n",
       "0       3    0  22.0                                   1   \n",
       "1       1    1  38.0                                   1   \n",
       "2       3    1  26.0                                   0   \n",
       "3       1    1  35.0                                   1   \n",
       "4       3    0  35.0                                   0   \n",
       "\n",
       "   no_of_parents_or_children_onboard  Survived  \n",
       "0                                  0         0  \n",
       "1                                  0         1  \n",
       "2                                  0         1  \n",
       "3                                  0         1  \n",
       "4                                  0         0  "
      ],
      "text/html": [
       "<div>\n",
       "<style scoped>\n",
       "    .dataframe tbody tr th:only-of-type {\n",
       "        vertical-align: middle;\n",
       "    }\n",
       "\n",
       "    .dataframe tbody tr th {\n",
       "        vertical-align: top;\n",
       "    }\n",
       "\n",
       "    .dataframe thead th {\n",
       "        text-align: right;\n",
       "    }\n",
       "</style>\n",
       "<table border=\"1\" class=\"dataframe\">\n",
       "  <thead>\n",
       "    <tr style=\"text-align: right;\">\n",
       "      <th></th>\n",
       "      <th>Pclass</th>\n",
       "      <th>Sex</th>\n",
       "      <th>Age</th>\n",
       "      <th>no_of_siblings_or_partners_onboard</th>\n",
       "      <th>no_of_parents_or_children_onboard</th>\n",
       "      <th>Survived</th>\n",
       "    </tr>\n",
       "  </thead>\n",
       "  <tbody>\n",
       "    <tr>\n",
       "      <th>0</th>\n",
       "      <td>3</td>\n",
       "      <td>0</td>\n",
       "      <td>22.0</td>\n",
       "      <td>1</td>\n",
       "      <td>0</td>\n",
       "      <td>0</td>\n",
       "    </tr>\n",
       "    <tr>\n",
       "      <th>1</th>\n",
       "      <td>1</td>\n",
       "      <td>1</td>\n",
       "      <td>38.0</td>\n",
       "      <td>1</td>\n",
       "      <td>0</td>\n",
       "      <td>1</td>\n",
       "    </tr>\n",
       "    <tr>\n",
       "      <th>2</th>\n",
       "      <td>3</td>\n",
       "      <td>1</td>\n",
       "      <td>26.0</td>\n",
       "      <td>0</td>\n",
       "      <td>0</td>\n",
       "      <td>1</td>\n",
       "    </tr>\n",
       "    <tr>\n",
       "      <th>3</th>\n",
       "      <td>1</td>\n",
       "      <td>1</td>\n",
       "      <td>35.0</td>\n",
       "      <td>1</td>\n",
       "      <td>0</td>\n",
       "      <td>1</td>\n",
       "    </tr>\n",
       "    <tr>\n",
       "      <th>4</th>\n",
       "      <td>3</td>\n",
       "      <td>0</td>\n",
       "      <td>35.0</td>\n",
       "      <td>0</td>\n",
       "      <td>0</td>\n",
       "      <td>0</td>\n",
       "    </tr>\n",
       "  </tbody>\n",
       "</table>\n",
       "</div>"
      ]
     },
     "execution_count": 54,
     "metadata": {},
     "output_type": "execute_result"
    }
   ],
   "execution_count": 54
  },
  {
   "metadata": {},
   "cell_type": "markdown",
   "source": [
    "Train test split\n",
    "\n",
    "The kaggle dataset contains a test.csv file, but this does not have the labels, so instead I am splitting the train.csv into two for our purposes"
   ],
   "id": "ce9b75d3b10460de"
  },
  {
   "metadata": {
    "ExecuteTime": {
     "end_time": "2025-10-13T12:03:24.294166Z",
     "start_time": "2025-10-13T12:03:24.289098Z"
    }
   },
   "cell_type": "code",
   "source": [
    "from sklearn.model_selection import train_test_split\n",
    "\n",
    "X_train, X_test, y_train, y_test = train_test_split(df.iloc[:, :-1], df[\"Survived\"], test_size=0.2)\n",
    "\n",
    "train = pd.concat([X_train, y_train], axis=1)\n",
    "train.to_csv(\"../data/train.csv\", index=False)\n",
    "test = pd.concat([X_test, y_test], axis=1)\n",
    "test.to_csv(\"../data/test.csv\", index=False)"
   ],
   "id": "b13392cf8b39dde9",
   "outputs": [],
   "execution_count": 55
  },
  {
   "metadata": {},
   "cell_type": "markdown",
   "source": "Logistic regression model",
   "id": "1d0fa2bf67be2bad"
  },
  {
   "metadata": {
    "ExecuteTime": {
     "end_time": "2025-10-13T12:03:24.393307Z",
     "start_time": "2025-10-13T12:03:24.355877Z"
    }
   },
   "cell_type": "code",
   "source": [
    "from sklearn.linear_model import LogisticRegression\n",
    "import pickle\n",
    "\n",
    "lr_model = LogisticRegression()\n",
    "lr_model.fit(X_train, y_train)\n",
    "\n",
    "#Savign the model\n",
    "with open(\"../models/lr_model.pkl\", \"wb\") as f:\n",
    "    pickle.dump(lr_model, f)"
   ],
   "id": "388f12701a6f42fd",
   "outputs": [],
   "execution_count": 57
  },
  {
   "metadata": {
    "ExecuteTime": {
     "end_time": "2025-10-13T12:04:01.119404Z",
     "start_time": "2025-10-13T12:04:01.107073Z"
    }
   },
   "cell_type": "code",
   "source": [
    "from sklearn.metrics import classification_report\n",
    "\n",
    "y_pred = lr_model.predict(X_test)\n",
    "\n",
    "print(classification_report(y_test, y_pred))\n"
   ],
   "id": "7496acf847860e74",
   "outputs": [
    {
     "name": "stdout",
     "output_type": "stream",
     "text": [
      "              precision    recall  f1-score   support\n",
      "\n",
      "           0       0.81      0.86      0.83        79\n",
      "           1       0.81      0.75      0.78        64\n",
      "\n",
      "    accuracy                           0.81       143\n",
      "   macro avg       0.81      0.81      0.81       143\n",
      "weighted avg       0.81      0.81      0.81       143\n",
      "\n"
     ]
    }
   ],
   "execution_count": 59
  },
  {
   "metadata": {},
   "cell_type": "markdown",
   "source": "Random forest model",
   "id": "e87726c5fca7dcd7"
  },
  {
   "metadata": {
    "ExecuteTime": {
     "end_time": "2025-10-13T12:04:40.967163Z",
     "start_time": "2025-10-13T12:04:40.649652Z"
    }
   },
   "cell_type": "code",
   "source": [
    "from sklearn.ensemble import RandomForestClassifier\n",
    "\n",
    "rf_model = RandomForestClassifier()\n",
    "rf_model.fit(X_train, y_train)\n",
    "with open(\"../models/rf_model.pkl\", \"wb\") as f:\n",
    "    pickle.dump(rf_model, f)\n",
    "\n"
   ],
   "id": "c3a5f411146399cd",
   "outputs": [],
   "execution_count": 60
  },
  {
   "metadata": {
    "ExecuteTime": {
     "end_time": "2025-10-13T12:05:14.912608Z",
     "start_time": "2025-10-13T12:05:14.895775Z"
    }
   },
   "cell_type": "code",
   "source": [
    "y_pred = rf_model.predict(X_test)\n",
    "\n",
    "print(classification_report(y_test, y_pred)) #83 percent accuracy, better performance than the LR model"
   ],
   "id": "5666dda3895e5178",
   "outputs": [
    {
     "name": "stdout",
     "output_type": "stream",
     "text": [
      "              precision    recall  f1-score   support\n",
      "\n",
      "           0       0.84      0.85      0.84        79\n",
      "           1       0.81      0.80      0.80        64\n",
      "\n",
      "    accuracy                           0.83       143\n",
      "   macro avg       0.82      0.82      0.82       143\n",
      "weighted avg       0.82      0.83      0.83       143\n",
      "\n"
     ]
    }
   ],
   "execution_count": 61
  }
 ],
 "metadata": {
  "kernelspec": {
   "display_name": "Python 3",
   "language": "python",
   "name": "python3"
  },
  "language_info": {
   "codemirror_mode": {
    "name": "ipython",
    "version": 2
   },
   "file_extension": ".py",
   "mimetype": "text/x-python",
   "name": "python",
   "nbconvert_exporter": "python",
   "pygments_lexer": "ipython2",
   "version": "2.7.6"
  }
 },
 "nbformat": 4,
 "nbformat_minor": 5
}
